{
 "cells": [
  {
   "cell_type": "markdown",
   "metadata": {},
   "source": [
    "# Graphe de causalité  [Partie 1 - Structure, modèle et  intervention]\n",
    "\n",
    "**Définition d'un graphe de causalité**  \n",
    "\n",
    "Un **graphe de causalité** est un graphe orienté et acyclique, souvent appelé **DAG (Directed Acyclic Graph)**, utilisé pour représenter les relations causales entre un ensemble de variables.  \n",
    "\n",
    "Il est défini par :  \n",
    "1. Un ensemble fini de nœuds $ V $, où chaque nœud $ v \\in V $ représente une variable aléatoire.  \n",
    "2. Un ensemble d’arêtes orientées $ E \\subseteq V \\times V $, où chaque arête $(v_i, v_j) \\in E$ indique que $ v_i $ est une **cause directe** de $ v_j $.  \n",
    "\n",
    "Un graphe de causalité respecte les propriétés suivantes :  \n",
    "- **Acyclicité** : Le graphe ne contient pas de cycles orientés. En effet, un cycle impliquerait qu’un événement $ A $ cause $ B $, $ B $ cause $ C $, et $ C $ cause $ A $, ce qui contredit la notion de causalité unidirectionnelle.  \n",
    "- **Orientation** : Les arêtes sont orientées pour indiquer la direction des relations causales, permettant de distinguer clairement une cause d’un effet.  \n",
    "\n",
    "---\n",
    "\n",
    "**Propriétés fondamentales**  \n",
    "\n",
    "1. **Relations de dépendance et causalité directe** :  \n",
    "    - Une arête $ v_i \\to v_j $ représente une relation de **causalité directe** entre $ v_i $ et $ v_j $, c'est-à-dire que $ v_i $ influence directement $ v_j $, sans intermédiaire.  \n",
    "    - Attention : toutes les relations de dépendance entre variables ne sont pas forcément représentées par des arêtes dans le graphe. Certaines dépendances peuvent être **induites** par les relations causales directes (voir point suivant).  \n",
    "\n",
    "2. **Indépendance conditionnelle** :  \n",
    "    - Un graphe de causalité encode des relations d’**indépendance conditionnelle** entre variables, selon le critère de séparation en graphe dirigé, ou **d-séparation**.  \n",
    "    - Par exemple, si $ A \\to B \\to C $, alors $ A $ et $ C $ sont indépendants conditionnellement à $ B $. Cela signifie que la dépendance entre $ A $ et $ C $ est induite par leur lien commun via $ B $.  \n",
    "\n",
    "3. **Interprétation probabiliste** :  \n",
    "    - Si un graphe causal est associé à une distribution de probabilité jointe $ P $, alors le graphe respecte le principe de **factorisation**. Cela signifie que la probabilité jointe peut être écrite comme le produit des probabilités conditionnelles des nœuds, en fonction de leurs parents dans le graphe :  \n",
    "      $$\n",
    "      P(V) = \\prod_{v \\in V} P(v \\mid \\text{Parents}(v)).\n",
    "      $$  \n",
    "\n",
    "---\n",
    "\n",
    "**Exemple d’application**  \n",
    "\n",
    "Considérons trois variables $ A $, $ B $, $ C $ avec les relations causales suivantes : $ A \\to B $ et $ B \\to C $.  \n",
    "- Ici, $ A $ cause directement $ B $, et $ B $ cause directement $ C $.  \n",
    "- $ A $ influence $ C $, mais de manière **indirecte** via $ B $.  \n",
    "- Selon la d-séparation, $ A $ et $ C $ sont conditionnellement indépendants sachant $ B $.  \n",
    "\n",
    "---"
   ]
  },
  {
   "cell_type": "markdown",
   "metadata": {},
   "source": [
    "## Les partterns\n",
    "\n",
    "Il existe des **patterns** pour décrire des configurations courantes dans les graphes causaux. En voici deux exemples :  \n",
    "\n",
    "1. **La chaîne** :  \n",
    "   $\n",
    "   X \\to Z \\to Y\n",
    "   $ \n",
    "   Dans cette configuration :  \n",
    "   - $X $ et $Y $ sont **indépendants** dans la distribution jointe (marginale), car ils ne sont pas connectés directement.  \n",
    "   - Cependant, $X $ et $Y $ deviennent **conditionnellement dépendants** lorsqu'on conditionne sur $Z $.  \n",
    "   - En termes d’indépendance conditionnelle, cela se traduit par :  \n",
    "     $\n",
    "     X \\perp\\!\\!\\!\\perp Y \\quad \\text{mais} \\quad X \\not\\!\\perp\\!\\!\\!\\perp Y \\mid Z\n",
    "     $ \n",
    "\n",
    "2. **La fourchette** (*fork* en anglais) :  \n",
    "   $\n",
    "   X \\gets Z \\to Y\n",
    "   $ \n",
    "   Dans cette configuration :  \n",
    "   - $X $ et $Y $ sont **dépendants** dans la distribution jointe (marginale), car $Z $ est une cause commune des deux.  \n",
    "   - Cependant, $X $ et $Y $ deviennent **indépendants** lorsqu'on conditionne sur $Z $.  \n",
    "   - En termes d’indépendance conditionnelle, cela se traduit par :  \n",
    "     $\n",
    "     X \\not\\!\\perp\\!\\!\\!\\perp Y \\quad \\text{mais} \\quad X \\perp\\!\\!\\!\\perp Y \\mid Z\n",
    "     $ \n",
    "\n",
    "3. **Le \"collider\"**  \n",
    "    Un motif de **collision** se présente sous la forme suivante :  \n",
    "    $$\n",
    "    X \\to Z \\gets Y\n",
    "    $$  \n",
    "\n",
    "    Dans cette configuration :  \n",
    "    - $ Z $ est une variable qui reçoit une influence causale à la fois de $ X $ et de $ Y $.  \n",
    "    - Contrairement aux autres motifs comme la chaîne ou la fourchette, **$ X $ et $ Y $ sont indépendants sauf si on conditionne sur $ Z $** ou sur une variable qui dépend de $ Z $.  \n",
    "\n",
    "    **Propriétés mathématiques** :  \n",
    "    1. Marginalement : $ X $ et $ Y $ sont **indépendants**.  \n",
    "    $$\n",
    "    X \\perp\\!\\!\\!\\perp Y\n",
    "    $$  \n",
    "    2. Conditionnellement sur $ Z $ : $ X $ et $ Y $ deviennent **dépendants**.  \n",
    "    $$\n",
    "    X \\not\\!\\perp\\!\\!\\!\\perp Y \\mid Z\n",
    "    $$  "
   ]
  },
  {
   "cell_type": "markdown",
   "metadata": {},
   "source": [
    "### Exemples\n",
    "\n",
    "#### 1. **La chaîne : $ X \\to Z \\to Y $**  \n",
    "**Exemple : Propagation de la température**  \n",
    "- **Contexte** :  \n",
    "  $ X $ représente la température extérieure.  \n",
    "  $ Z $ représente la température d’une pièce.  \n",
    "  $ Y $ représente le confort thermique ressenti par une personne.  \n",
    "- **Interprétation** :  \n",
    "  - La température extérieure ($ X $) influence la température de la pièce ($ Z $), qui à son tour influence le confort ressenti ($ Y $).  \n",
    "  - Marginalement, $ X $ et $ Y $ ne sont pas directement liés : si vous ne connaissez pas $ Z $, vous ne pouvez pas prédire $ Y $ à partir de $ X $.  \n",
    "  - Cependant, si vous connaissez $ Z $ (la température de la pièce), $ X $ devient conditionnellement dépendant de $ Y $.  \n",
    "\n",
    "**Propriétés** :  \n",
    "$$\n",
    "X \\perp\\!\\!\\!\\perp Y \\quad \\text{mais} \\quad X \\not\\!\\perp\\!\\!\\!\\perp Y \\mid Z\n",
    "$$  \n",
    "\n",
    "#### 2. **La fourchette : $ X \\gets Z \\to Y $**  \n",
    "**Exemple : Génétique et traits physiques**  \n",
    "- **Contexte** :  \n",
    "  $ X $ représente la couleur des cheveux.  \n",
    "  $ Y $ représente la couleur des yeux.  \n",
    "  $ Z $ représente un gène particulier qui influence à la fois la couleur des cheveux et la couleur des yeux.  \n",
    "- **Interprétation** :  \n",
    "  - $ X $ et $ Y $ sont dépendants dans la distribution jointe (par exemple, les personnes avec des cheveux foncés ont souvent les yeux foncés).  \n",
    "  - Si vous connaissez $ Z $ (le gène responsable), cette dépendance disparaît, car $ Z $ explique à lui seul les deux traits.  \n",
    "\n",
    "\n",
    "### 3. **Le collider : $ X \\to Z \\gets Y $**  \n",
    "**Exemple : Détection d'une maladie via des symptômes** \n",
    "\n",
    "- **Contexte** :  \n",
    "  - $ X $ : Une personne a une grippe.  \n",
    "  - $ Y $ : Une personne a une allergie.  \n",
    "  - $ Z $ : La personne présente un symptôme commun, comme un nez qui coule.  \n",
    "\n",
    "- **Interprétation** :  \n",
    "  - La grippe ($ X $) et l’allergie ($ Y $) peuvent toutes deux causer un nez qui coule ($ Z $).  \n",
    "  - Si vous ne tenez pas compte du fait que la personne a le nez qui coule ($ Z $), la grippe ($ X $) et l’allergie ($ Y $) sont indépendantes : l’un ne vous informe pas sur l’autre.  \n",
    "  - Cependant, si vous savez que la personne a le nez qui coule ($ Z $), alors les deux causes potentielles ($ X $ et $ Y $) deviennent dépendantes. En effet, si vous découvrez que la personne a la grippe ($ X $), cela diminue la probabilité qu’elle ait également une allergie ($ Y $), et vice versa.  \n",
    "\n",
    "**Propriétés** :  \n",
    "$$\n",
    "X \\not\\!\\perp\\!\\!\\!\\perp Y \\quad \\text{mais} \\quad X \\perp\\!\\!\\!\\perp Y \\mid Z\n",
    "$$\n"
   ]
  },
  {
   "cell_type": "markdown",
   "metadata": {},
   "source": [
    "---\n",
    "## Vocabulaire\n",
    "\n",
    "Le symbole **$ \\perp\\!\\!\\!\\perp $** (ou parfois simplement $ \\perp $) est utilisé en mathématiques et en statistiques pour représenter **l'indépendance stochastique** ou **l'indépendance statistique** entre deux variables aléatoires.\n",
    "\n",
    "### **Définition**  \n",
    "Deux variables aléatoires $ X $ et $ Y $ sont dites **indépendantes** (notation : $ X \\perp\\!\\!\\!\\perp Y $) si la connaissance de $ Y $ n'apporte aucune information sur $ X $, et vice versa.  \n",
    "En termes probabilistes :  \n",
    "$$\n",
    "X \\perp\\!\\!\\!\\perp Y \\quad \\Longleftrightarrow \\quad P(X, Y) = P(X) \\cdot P(Y)\n",
    "$$\n",
    "où $ P(X, Y) $ est la probabilité conjointe, $ P(X) $ et $ P(Y) $ sont les probabilités marginales.\n",
    "\n",
    "### **Indépendance conditionnelle**  \n",
    "Une extension importante est **l'indépendance conditionnelle**, qui s'écrit également avec ce symbole :  \n",
    "$$\n",
    "X \\perp\\!\\!\\!\\perp Y \\mid Z\n",
    "$$\n",
    "Cela signifie que $ X $ et $ Y $ sont indépendants **conditionnellement à une troisième variable $ Z $**.  \n",
    "En termes probabilistes :  \n",
    "$$\n",
    "X \\perp\\!\\!\\!\\perp Y \\mid Z \\quad \\Longleftrightarrow \\quad P(X, Y \\mid Z) = P(X \\mid Z) \\cdot P(Y \\mid Z)\n",
    "$$\n",
    "\n",
    "### **Interprétation intuitive**  \n",
    "1. **Indépendance totale ($ X \\perp\\!\\!\\!\\perp Y $)** : $ X $ et $ Y $ n'ont aucune relation entre eux.  \n",
    "   - Exemple : La couleur des murs d'une pièce et le prix d'une action en bourse.  \n",
    "2. **Indépendance conditionnelle ($ X \\perp\\!\\!\\!\\perp Y \\mid Z $)** : $ X $ et $ Y $ sont dépendants, mais une fois que vous connaissez $ Z $, cette dépendance disparaît.  \n",
    "   - Exemple : La couleur des cheveux ($ X $) et la couleur des yeux ($ Y $) dépendent d'un gène ($ Z $). Si vous connaissez $ Z $, $ X $ et $ Y $ deviennent indépendants.\n",
    "\n",
    "### Utilisation en graphes causaux  \n",
    "Le symbole $ \\perp\\!\\!\\!\\perp $ est central pour exprimer les propriétés d'indépendance dans les **DAGs (Graphes Dirigés Acycliques)**, où il permet de formaliser les relations entre variables via le critère de **d-séparation**.  \n"
   ]
  },
  {
   "cell_type": "markdown",
   "metadata": {},
   "source": [
    "## Exemple d'un collider"
   ]
  },
  {
   "cell_type": "code",
   "execution_count": 23,
   "metadata": {},
   "outputs": [
    {
     "data": {
      "text/html": [
       "<div>\n",
       "<style scoped>\n",
       "    .dataframe tbody tr th:only-of-type {\n",
       "        vertical-align: middle;\n",
       "    }\n",
       "\n",
       "    .dataframe tbody tr th {\n",
       "        vertical-align: top;\n",
       "    }\n",
       "\n",
       "    .dataframe thead th {\n",
       "        text-align: right;\n",
       "    }\n",
       "</style>\n",
       "<table border=\"1\" class=\"dataframe\">\n",
       "  <thead>\n",
       "    <tr style=\"text-align: right;\">\n",
       "      <th></th>\n",
       "      <th>talent</th>\n",
       "      <th>look</th>\n",
       "    </tr>\n",
       "  </thead>\n",
       "  <tbody>\n",
       "    <tr>\n",
       "      <th>talent</th>\n",
       "      <td>1.000000</td>\n",
       "      <td>0.040981</td>\n",
       "    </tr>\n",
       "    <tr>\n",
       "      <th>look</th>\n",
       "      <td>0.040981</td>\n",
       "      <td>1.000000</td>\n",
       "    </tr>\n",
       "  </tbody>\n",
       "</table>\n",
       "</div>"
      ],
      "text/plain": [
       "          talent      look\n",
       "talent  1.000000  0.040981\n",
       "look    0.040981  1.000000"
      ]
     },
     "execution_count": 23,
     "metadata": {},
     "output_type": "execute_result"
    }
   ],
   "source": [
    "import numpy as np\n",
    "import pandas as pd\n",
    "\n",
    "talent = pd.Series(np.random.normal(0, 1, 1000), name=\"talent\")\n",
    "look = pd.Series(np.random.normal(0, 1, 1000), name=\"look\")\n",
    "df = pd.concat([talent, look], axis=1)\n",
    "df.corr()"
   ]
  },
  {
   "cell_type": "markdown",
   "metadata": {},
   "source": [
    "Ici les deux variables sont complément indépendantes "
   ]
  },
  {
   "cell_type": "code",
   "execution_count": null,
   "metadata": {},
   "outputs": [],
   "source": [
    "x = talent + look\n",
    "job = 1*(x > x.quantile(0.75))\n",
    "df[\"job\"] = job"
   ]
  },
  {
   "cell_type": "code",
   "execution_count": 32,
   "metadata": {},
   "outputs": [
    {
     "data": {
      "text/html": [
       "<div>\n",
       "<style scoped>\n",
       "    .dataframe tbody tr th:only-of-type {\n",
       "        vertical-align: middle;\n",
       "    }\n",
       "\n",
       "    .dataframe tbody tr th {\n",
       "        vertical-align: top;\n",
       "    }\n",
       "\n",
       "    .dataframe thead th {\n",
       "        text-align: right;\n",
       "    }\n",
       "</style>\n",
       "<table border=\"1\" class=\"dataframe\">\n",
       "  <thead>\n",
       "    <tr style=\"text-align: right;\">\n",
       "      <th></th>\n",
       "      <th>talent</th>\n",
       "      <th>look</th>\n",
       "      <th>job</th>\n",
       "    </tr>\n",
       "  </thead>\n",
       "  <tbody>\n",
       "    <tr>\n",
       "      <th>talent</th>\n",
       "      <td>1.00000</td>\n",
       "      <td>-0.60478</td>\n",
       "      <td>NaN</td>\n",
       "    </tr>\n",
       "    <tr>\n",
       "      <th>look</th>\n",
       "      <td>-0.60478</td>\n",
       "      <td>1.00000</td>\n",
       "      <td>NaN</td>\n",
       "    </tr>\n",
       "    <tr>\n",
       "      <th>job</th>\n",
       "      <td>NaN</td>\n",
       "      <td>NaN</td>\n",
       "      <td>NaN</td>\n",
       "    </tr>\n",
       "  </tbody>\n",
       "</table>\n",
       "</div>"
      ],
      "text/plain": [
       "         talent     look  job\n",
       "talent  1.00000 -0.60478  NaN\n",
       "look   -0.60478  1.00000  NaN\n",
       "job         NaN      NaN  NaN"
      ]
     },
     "execution_count": 32,
     "metadata": {},
     "output_type": "execute_result"
    }
   ],
   "source": [
    "df[df.job == 1].corr()"
   ]
  },
  {
   "cell_type": "markdown",
   "metadata": {},
   "source": [
    "Par le biais de x avec une quantile de la somme de nos deux var aléa, nous obtenons une corrélation lorsque que nous conditionnons talent et look par rapport à job.\n",
    "\n",
    "Voici une viz pour comprendre le phénomène:"
   ]
  },
  {
   "cell_type": "code",
   "execution_count": 34,
   "metadata": {},
   "outputs": [
    {
     "data": {
      "text/plain": [
       "<Axes: xlabel='talent', ylabel='look'>"
      ]
     },
     "execution_count": 34,
     "metadata": {},
     "output_type": "execute_result"
    },
    {
     "data": {
      "image/png": "[encoded data removed]",
      "text/plain": [
       "<Figure size 640x480 with 1 Axes>"
      ]
     },
     "metadata": {},
     "output_type": "display_data"
    }
   ],
   "source": [
    "df[df.job == 1].plot.scatter(x=\"talent\", y=\"look\")"
   ]
  },
  {
   "cell_type": "markdown",
   "metadata": {},
   "source": [
    "## La **d-séparation**\n",
    "\n",
    "La **d-séparation** (ou **séparation directionnelle**) est un concept central dans la théorie des graphes causaux. Elle permet de déterminer si deux ensembles de variables dans un graphe causal sont **indépendants conditionnellement** à un autre ensemble de variables. C’est une règle formelle pour raisonner sur les relations d’indépendance statistique dans un **graphe dirigé acyclique** (DAG).\n",
    "\n",
    "---\n",
    "\n",
    "### **1. Définition intuitive**\n",
    "La d-séparation est utilisée pour répondre à la question suivante :  \n",
    "> \"Dans un DAG, connaissant certaines variables, est-ce que deux autres variables (ou ensembles de variables) sont statistiquement indépendants ?\"\n",
    "\n",
    "Deux variables $ X $ et $ Y $ sont **d-séparées** par un ensemble de variables $ Z $ (notation : $ X \\perp\\!\\!\\!\\perp Y \\mid Z $) si **tous les chemins reliant $ X $ et $ Y $ sont bloqués** par $ Z $.\n",
    "\n",
    "---\n",
    "\n",
    "### **2. Règles pour bloquer un chemin**\n",
    "Un **chemin** dans un graphe causal peut être bloqué par $ Z $ selon trois types de structures fondamentales (ou motifs) :\n",
    "\n",
    "#### a) **Chaîne : $ X \\to Z \\to Y $**  \n",
    "- Si $ Z $ appartient à l’ensemble de conditionnement $ Z $, alors le chemin est bloqué.  \n",
    "- Exemple : Si la température extérieure ($ X $) affecte la température intérieure ($ Z $), qui affecte le confort ($ Y $), conditionner sur $ Z $ (température intérieure) bloque ce chemin.\n",
    "\n",
    "#### b) **Fourchette : $ X \\gets Z \\to Y $**  \n",
    "- Si $ Z $ appartient à l’ensemble de conditionnement $ Z $, alors le chemin est bloqué.  \n",
    "- Exemple : Si $ Z $ est une cause commune (par exemple, le gène responsable de la couleur des cheveux et des yeux), conditionner sur $ Z $ coupe le lien entre $ X $ (cheveux) et $ Y $ (yeux).\n",
    "\n",
    "#### c) **Collider : $ X \\to Z \\gets Y $**  \n",
    "- Si $ Z $ **n’appartient pas** à l’ensemble de conditionnement, alors le chemin est bloqué.  \n",
    "- Si $ Z $ ou l’un de ses descendants est dans l’ensemble de conditionnement, alors le chemin devient actif.  \n",
    "- Exemple : Si $ Z $ est un symptôme (nez qui coule) causé par deux maladies indépendantes ($ X $ : grippe, $ Y $ : allergie), conditionner sur $ Z $ (ou sur ses conséquences) introduit une dépendance entre $ X $ et $ Y $.\n",
    "\n",
    "---\n",
    "\n",
    "### **3. Formalisation de la d-séparation**\n",
    "Deux ensembles de variables $ X $ et $ Y $ sont **d-séparés** par un ensemble $ Z $ si tous les chemins reliant $ X $ et $ Y $ sont bloqués par $ Z $.  \n",
    "\n",
    "- Un **chemin causal** est **bloqué** si :\n",
    "  - $ Z $ contient une variable intermédiaire dans une chaîne ($ X \\to Z \\to Y $) ou une fourchette ($ X \\gets Z \\to Y $).  \n",
    "  - $ Z $ **ne contient pas** une variable dans un collider ($ X \\to Z \\gets Y $), sauf si un descendant de cette variable est dans $ Z $.\n",
    "\n",
    "---\n",
    "\n",
    "### **4. Exemple concret**\n",
    "#### Graphe causal :  \n",
    "$$\n",
    "X \\to Z \\to Y \\quad \\text{et} \\quad X \\to W \\gets Y\n",
    "$$\n",
    "\n",
    "1. **Indépendance marginale ($ Z = \\emptyset $)** :  \n",
    "   - $ X $ et $ Y $ sont connectés par deux chemins :  \n",
    "     - $ X \\to Z \\to Y $ (chaîne).  \n",
    "     - $ X \\to W \\gets Y $ (collider, bloqué si $ W $ n’est pas conditionné).  \n",
    "   - Si on ne conditionne sur aucune variable, $ X $ et $ Y $ sont dépendants.  \n",
    "\n",
    "2. **Conditionnement sur $ Z $ ($ Z = \\{Z\\} $)** :  \n",
    "   - Le chemin $ X \\to Z \\to Y $ est bloqué.  \n",
    "   - Le chemin $ X \\to W \\gets Y $ reste bloqué (par le collider).  \n",
    "   - Donc, $ X \\perp\\!\\!\\!\\perp Y \\mid Z $.  \n",
    "\n",
    "3. **Conditionnement sur $ W $ ($ Z = \\{W\\} $)** :  \n",
    "   - Le chemin $ X \\to W \\gets Y $ devient actif (le collider est débloqué).  \n",
    "   - Le chemin $ X \\to Z \\to Y $ reste actif.  \n",
    "   - Donc, $ X \\not\\!\\perp\\!\\!\\!\\perp Y \\mid W $.\n",
    "\n",
    "---\n",
    "\n",
    "### **5. Utilité de la d-séparation**\n",
    "- Identifier les relations d'indépendance dans un graphe causal.  \n",
    "- Vérifier si un modèle causal est compatible avec les données statistiques.  \n",
    "- Comprendre comment conditionner les variables pour bloquer ou activer des chemins.\n"
   ]
  },
  {
   "cell_type": "markdown",
   "metadata": {},
   "source": [
    "---"
   ]
  },
  {
   "cell_type": "markdown",
   "metadata": {},
   "source": [
    "## Les interventions\n",
    "\n",
    "![test](./imgs/example_intervention.png)"
   ]
  },
  {
   "cell_type": "markdown",
   "metadata": {},
   "source": [
    "Comme on peut le voir nous pouvons attribuer à la variable X une valeur, donc nous faisons ce qu'on appele une intervention qui consiste à étudier Y enfonction de Z et x conditionné ! "
   ]
  }
 ],
 "metadata": {
  "kernelspec": {
   "display_name": "Python 3",
   "language": "python",
   "name": "python3"
  },
  "language_info": {
   "codemirror_mode": {
    "name": "ipython",
    "version": 3
   },
   "file_extension": ".py",
   "mimetype": "text/x-python",
   "name": "python",
   "nbconvert_exporter": "python",
   "pygments_lexer": "ipython3",
   "version": "3.9.21"
  }
 },
 "nbformat": 4,
 "nbformat_minor": 2
}
