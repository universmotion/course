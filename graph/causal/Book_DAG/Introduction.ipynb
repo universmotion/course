{
 "cells": [
  {
   "cell_type": "markdown",
   "metadata": {},
   "source": [
    "## Section 2: \n",
    "\n",
    "Récupération de la donnée: \n",
    "\n",
    "\n",
    "``` bash\n",
    "    curl -X GET https://raw.githubusercontent.com/matheusfacure/causal-inference-in-python-code/refs/heads/main/causal-inference-in-python/data/cross_sell_email.csv > cross_sell_email.csv\n",
    "```\n",
    "\n",
    "source: https://github.com/matheusfacure/causal-inference-in-python-code/tree/main/causal-inference-in-python/data\n"
   ]
  },
  {
   "cell_type": "code",
   "execution_count": 4,
   "metadata": {},
   "outputs": [
    {
     "data": {
      "text/html": [
       "<div>\n",
       "<style scoped>\n",
       "    .dataframe tbody tr th:only-of-type {\n",
       "        vertical-align: middle;\n",
       "    }\n",
       "\n",
       "    .dataframe tbody tr th {\n",
       "        vertical-align: top;\n",
       "    }\n",
       "\n",
       "    .dataframe thead th {\n",
       "        text-align: right;\n",
       "    }\n",
       "</style>\n",
       "<table border=\"1\" class=\"dataframe\">\n",
       "  <thead>\n",
       "    <tr style=\"text-align: right;\">\n",
       "      <th></th>\n",
       "      <th>gender</th>\n",
       "      <th>cross_sell_email</th>\n",
       "      <th>age</th>\n",
       "      <th>conversion</th>\n",
       "    </tr>\n",
       "  </thead>\n",
       "  <tbody>\n",
       "    <tr>\n",
       "      <th>0</th>\n",
       "      <td>0</td>\n",
       "      <td>short</td>\n",
       "      <td>15</td>\n",
       "      <td>0</td>\n",
       "    </tr>\n",
       "    <tr>\n",
       "      <th>1</th>\n",
       "      <td>1</td>\n",
       "      <td>short</td>\n",
       "      <td>27</td>\n",
       "      <td>0</td>\n",
       "    </tr>\n",
       "    <tr>\n",
       "      <th>2</th>\n",
       "      <td>1</td>\n",
       "      <td>long</td>\n",
       "      <td>17</td>\n",
       "      <td>0</td>\n",
       "    </tr>\n",
       "    <tr>\n",
       "      <th>3</th>\n",
       "      <td>1</td>\n",
       "      <td>long</td>\n",
       "      <td>34</td>\n",
       "      <td>0</td>\n",
       "    </tr>\n",
       "    <tr>\n",
       "      <th>4</th>\n",
       "      <td>1</td>\n",
       "      <td>no_email</td>\n",
       "      <td>14</td>\n",
       "      <td>0</td>\n",
       "    </tr>\n",
       "    <tr>\n",
       "      <th>...</th>\n",
       "      <td>...</td>\n",
       "      <td>...</td>\n",
       "      <td>...</td>\n",
       "      <td>...</td>\n",
       "    </tr>\n",
       "    <tr>\n",
       "      <th>318</th>\n",
       "      <td>0</td>\n",
       "      <td>long</td>\n",
       "      <td>18</td>\n",
       "      <td>0</td>\n",
       "    </tr>\n",
       "    <tr>\n",
       "      <th>319</th>\n",
       "      <td>1</td>\n",
       "      <td>no_email</td>\n",
       "      <td>16</td>\n",
       "      <td>0</td>\n",
       "    </tr>\n",
       "    <tr>\n",
       "      <th>320</th>\n",
       "      <td>0</td>\n",
       "      <td>no_email</td>\n",
       "      <td>15</td>\n",
       "      <td>0</td>\n",
       "    </tr>\n",
       "    <tr>\n",
       "      <th>321</th>\n",
       "      <td>1</td>\n",
       "      <td>no_email</td>\n",
       "      <td>16</td>\n",
       "      <td>0</td>\n",
       "    </tr>\n",
       "    <tr>\n",
       "      <th>322</th>\n",
       "      <td>1</td>\n",
       "      <td>long</td>\n",
       "      <td>24</td>\n",
       "      <td>1</td>\n",
       "    </tr>\n",
       "  </tbody>\n",
       "</table>\n",
       "<p>323 rows × 4 columns</p>\n",
       "</div>"
      ],
      "text/plain": [
       "     gender cross_sell_email  age  conversion\n",
       "0         0            short   15           0\n",
       "1         1            short   27           0\n",
       "2         1             long   17           0\n",
       "3         1             long   34           0\n",
       "4         1         no_email   14           0\n",
       "..      ...              ...  ...         ...\n",
       "318       0             long   18           0\n",
       "319       1         no_email   16           0\n",
       "320       0         no_email   15           0\n",
       "321       1         no_email   16           0\n",
       "322       1             long   24           1\n",
       "\n",
       "[323 rows x 4 columns]"
      ]
     },
     "execution_count": 4,
     "metadata": {},
     "output_type": "execute_result"
    }
   ],
   "source": [
    "import pandas as pd\n",
    "import numpy as np\n",
    "\n",
    "data = pd.read_csv(\"./data/cross_sell_email.csv\")\n",
    "data"
   ]
  },
  {
   "cell_type": "code",
   "execution_count": 14,
   "metadata": {},
   "outputs": [
    {
     "data": {
      "text/html": [
       "<div>\n",
       "<style scoped>\n",
       "    .dataframe tbody tr th:only-of-type {\n",
       "        vertical-align: middle;\n",
       "    }\n",
       "\n",
       "    .dataframe tbody tr th {\n",
       "        vertical-align: top;\n",
       "    }\n",
       "\n",
       "    .dataframe thead th {\n",
       "        text-align: right;\n",
       "    }\n",
       "</style>\n",
       "<table border=\"1\" class=\"dataframe\">\n",
       "  <thead>\n",
       "    <tr style=\"text-align: right;\">\n",
       "      <th></th>\n",
       "      <th>gender</th>\n",
       "      <th>age</th>\n",
       "      <th>conversion</th>\n",
       "    </tr>\n",
       "    <tr>\n",
       "      <th>cross_sell_email</th>\n",
       "      <th></th>\n",
       "      <th></th>\n",
       "      <th></th>\n",
       "    </tr>\n",
       "  </thead>\n",
       "  <tbody>\n",
       "    <tr>\n",
       "      <th>long</th>\n",
       "      <td>0.550459</td>\n",
       "      <td>21.752294</td>\n",
       "      <td>0.055046</td>\n",
       "    </tr>\n",
       "    <tr>\n",
       "      <th>no_email</th>\n",
       "      <td>0.542553</td>\n",
       "      <td>20.489362</td>\n",
       "      <td>0.042553</td>\n",
       "    </tr>\n",
       "    <tr>\n",
       "      <th>short</th>\n",
       "      <td>0.633333</td>\n",
       "      <td>20.991667</td>\n",
       "      <td>0.125000</td>\n",
       "    </tr>\n",
       "  </tbody>\n",
       "</table>\n",
       "</div>"
      ],
      "text/plain": [
       "                    gender        age  conversion\n",
       "cross_sell_email                                 \n",
       "long              0.550459  21.752294    0.055046\n",
       "no_email          0.542553  20.489362    0.042553\n",
       "short             0.633333  20.991667    0.125000"
      ]
     },
     "execution_count": 14,
     "metadata": {},
     "output_type": "execute_result"
    }
   ],
   "source": [
    "mean = data.groupby(\"cross_sell_email\").mean()\n",
    "mean.conversion.str.strip()"
   ]
  },
  {
   "cell_type": "markdown",
   "metadata": {},
   "source": [
    "Comme nous pouvons le voir il y a deux modalités (le groupe neutre ne comptant pas comme ne modalité).\n",
    "\n",
    "Ici nous obtenons les scores de: \n",
    "\n",
    "- 4 % pour le groupe controle, soit $ E[Y|T=0] $, \n",
    "- 5 % pour l'envoie d'email long, soit $ E[Y|T=1] $,\n",
    "- 12 % pour l'envoie d'email court, soit $ E[Y|T=2] $\n",
    "\n",
    "\n",
    "Egalement côté, similarité des groupes, la randomisation a mal été faite coté gender où les différences entre H/F sont plus forte dans short avec 63% d'homme (car homme = 1 dans la colonne gender), hors dans les autres nous avons env. 55% d'homme ce qui équilibre davantage les groupes. \n",
    "\n",
    "Coté age, les groupes sembles similaires ce qui ne soulève pas de problème à première vue.\n"
   ]
  },
  {
   "cell_type": "code",
   "execution_count": 19,
   "metadata": {},
   "outputs": [
    {
     "name": "stdout",
     "output_type": "stream",
     "text": [
      "                 conversion  ATE\n",
      "cross_sell_email                \n",
      "long                   0.06 0.01\n",
      "no_email               0.04 0.00\n",
      "short                  0.12 0.08\n"
     ]
    }
   ],
   "source": [
    "mean[\"ATE\"] = mean.conversion - mean.loc[\"no_email\", \"conversion\"]\n",
    "print(mean[[\"conversion\", \"ATE\"]].to_string(formatters={\"ATE\": \"{:,.2f}\".format, \"conversion\": \"{:,.2f}\".format}))"
   ]
  },
  {
   "cell_type": "markdown",
   "metadata": {},
   "source": [
    "L'ATE est de:\n",
    " \n",
    "- 1 % pour l'envoie d'email long, soit $ E[Y|T=1] - E[Y|T=0] $,\n",
    "- 8 % pour l'envoie d'email court, soit $ E[Y|T=2] - E[Y|T=0] $\n",
    "\n",
    "=> Page 35"
   ]
  },
  {
   "cell_type": "code",
   "execution_count": 20,
   "metadata": {},
   "outputs": [
    {
     "data": {
      "text/html": [
       "<div>\n",
       "<style scoped>\n",
       "    .dataframe tbody tr th:only-of-type {\n",
       "        vertical-align: middle;\n",
       "    }\n",
       "\n",
       "    .dataframe tbody tr th {\n",
       "        vertical-align: top;\n",
       "    }\n",
       "\n",
       "    .dataframe thead th {\n",
       "        text-align: right;\n",
       "    }\n",
       "</style>\n",
       "<table border=\"1\" class=\"dataframe\">\n",
       "  <thead>\n",
       "    <tr style=\"text-align: right;\">\n",
       "      <th></th>\n",
       "      <th>gender</th>\n",
       "      <th>age</th>\n",
       "    </tr>\n",
       "    <tr>\n",
       "      <th>cross_sell_email</th>\n",
       "      <th></th>\n",
       "      <th></th>\n",
       "    </tr>\n",
       "  </thead>\n",
       "  <tbody>\n",
       "    <tr>\n",
       "      <th>long</th>\n",
       "      <td>0.015802</td>\n",
       "      <td>0.221423</td>\n",
       "    </tr>\n",
       "    <tr>\n",
       "      <th>no_email</th>\n",
       "      <td>0.000000</td>\n",
       "      <td>0.000000</td>\n",
       "    </tr>\n",
       "    <tr>\n",
       "      <th>short</th>\n",
       "      <td>0.184341</td>\n",
       "      <td>0.087370</td>\n",
       "    </tr>\n",
       "  </tbody>\n",
       "</table>\n",
       "</div>"
      ],
      "text/plain": [
       "                    gender       age\n",
       "cross_sell_email                    \n",
       "long              0.015802  0.221423\n",
       "no_email          0.000000  0.000000\n",
       "short             0.184341  0.087370"
      ]
     },
     "execution_count": 20,
     "metadata": {},
     "output_type": "execute_result"
    }
   ],
   "source": [
    "X = [\"gender\", \"age\"]\n",
    "\n",
    "mu = data.groupby(\"cross_sell_email\")[X].mean()\n",
    "var = data.groupby(\"cross_sell_email\")[X].var()\n",
    "\n",
    "norm_diff = ((mu - mu.loc[\"no_email\"])/np.sqrt((var + var.loc[\"no_email\"])/2))\n",
    "norm_diff"
   ]
  },
  {
   "cell_type": "markdown",
   "metadata": {},
   "source": [
    "Pour vérfier si la différence est forte, il verifier la différence normalisé:\n",
    "\n",
    "$$ \n",
    "    \\frac{ \\hat{\\mu}_{tr} - \\hat{\\mu}_{co} } { \\sqrt{ (\\hat{\\sigma}_{tr}^{2} - \\hat{\\sigma}_{co}^{2})/2 } }\n",
    "$$\n",
    "\n",
    "Où:\n",
    "- tr = traitement donc t=i\n",
    "- co = controle donc t=0\n",
    "\n",
    "\n",
    "Ici on remarque que les modalités conjointes short\\gender ont normale différentielle forte qui montre un ecart fort entre les deux autres groupe (t=0 et t=long).\n",
    "C'est aussi le cas pour le groupe long\\age.\n",
    "\n",
    "=> page 36"
   ]
  },
  {
   "cell_type": "markdown",
   "metadata": {},
   "source": [
    "**Conclusion:**   \n",
    "Bref, ces dernières ont servis pour montrer le \"randomized controlled trials\" (RCT), s'il est mal fait nos résultats montre une différence mais qui peut etre induit par un biais et non le traitement. En locurence ici, les hommes peuvent avoir plus tendance à consommer que les femmes ce qui fait que le taux de réussite peut etre plus important dans ce dernier (email court) que dans les autres modalités.\n",
    "\n",
    "\n",
    "Parfois pour des raisons éthiques, budgetaire ou autre, le RCT n'est pas possible ainsi nous passons à l'échantillon observé qui peut contenir des biais dans nos données.\n",
    "\n",
    "---\n",
    "\n",
    "## Partie 2: Que faire quand on a pas de randomisation\n",
    "\n",
    "``` bash\n",
    "    curl -X GET https://raw.githubusercontent.com/matheusfacure/causal-inference-in-python-code/refs/heads/main/causal-inference-in-python/data/enem_scores.csv > ./data/enem_scores.csv\n",
    "```\n",
    "\n",
    "### **Les équations dangeureuses**\n",
    "\n",
    "Il existe deux types d'équations dangueureuse: \n",
    "1. Si on connait ces équations, elles sont dangeureuses (la masse critique pour faire un explosif),\n",
    "2. Si on connait mal/pas ces equations, cela est dangeureux (exemple équation de Moivre: $ SE =  \\frac{\\sigma}{\\sqrt{n}} $) \n",
    "\n",
    "\n",
    "**Verifions pourquoi cette équation est dangeureuse ?**"
   ]
  },
  {
   "cell_type": "code",
   "execution_count": 24,
   "metadata": {},
   "outputs": [
    {
     "data": {
      "text/html": [
       "<div>\n",
       "<style scoped>\n",
       "    .dataframe tbody tr th:only-of-type {\n",
       "        vertical-align: middle;\n",
       "    }\n",
       "\n",
       "    .dataframe tbody tr th {\n",
       "        vertical-align: top;\n",
       "    }\n",
       "\n",
       "    .dataframe thead th {\n",
       "        text-align: right;\n",
       "    }\n",
       "</style>\n",
       "<table border=\"1\" class=\"dataframe\">\n",
       "  <thead>\n",
       "    <tr style=\"text-align: right;\">\n",
       "      <th></th>\n",
       "      <th>year</th>\n",
       "      <th>school_id</th>\n",
       "      <th>number_of_students</th>\n",
       "      <th>avg_score</th>\n",
       "    </tr>\n",
       "  </thead>\n",
       "  <tbody>\n",
       "    <tr>\n",
       "      <th>16670</th>\n",
       "      <td>2007</td>\n",
       "      <td>33062633</td>\n",
       "      <td>68</td>\n",
       "      <td>82.97</td>\n",
       "    </tr>\n",
       "    <tr>\n",
       "      <th>16796</th>\n",
       "      <td>2007</td>\n",
       "      <td>33065403</td>\n",
       "      <td>172</td>\n",
       "      <td>82.04</td>\n",
       "    </tr>\n",
       "    <tr>\n",
       "      <th>16668</th>\n",
       "      <td>2005</td>\n",
       "      <td>33062633</td>\n",
       "      <td>59</td>\n",
       "      <td>81.89</td>\n",
       "    </tr>\n",
       "    <tr>\n",
       "      <th>16794</th>\n",
       "      <td>2005</td>\n",
       "      <td>33065403</td>\n",
       "      <td>177</td>\n",
       "      <td>81.66</td>\n",
       "    </tr>\n",
       "    <tr>\n",
       "      <th>10043</th>\n",
       "      <td>2007</td>\n",
       "      <td>29342880</td>\n",
       "      <td>43</td>\n",
       "      <td>80.32</td>\n",
       "    </tr>\n",
       "    <tr>\n",
       "      <th>18121</th>\n",
       "      <td>2007</td>\n",
       "      <td>33152314</td>\n",
       "      <td>14</td>\n",
       "      <td>79.82</td>\n",
       "    </tr>\n",
       "    <tr>\n",
       "      <th>16781</th>\n",
       "      <td>2007</td>\n",
       "      <td>33065250</td>\n",
       "      <td>80</td>\n",
       "      <td>79.67</td>\n",
       "    </tr>\n",
       "    <tr>\n",
       "      <th>3026</th>\n",
       "      <td>2007</td>\n",
       "      <td>22025740</td>\n",
       "      <td>144</td>\n",
       "      <td>79.52</td>\n",
       "    </tr>\n",
       "    <tr>\n",
       "      <th>14636</th>\n",
       "      <td>2007</td>\n",
       "      <td>31311723</td>\n",
       "      <td>222</td>\n",
       "      <td>79.41</td>\n",
       "    </tr>\n",
       "    <tr>\n",
       "      <th>17318</th>\n",
       "      <td>2007</td>\n",
       "      <td>33087679</td>\n",
       "      <td>210</td>\n",
       "      <td>79.38</td>\n",
       "    </tr>\n",
       "  </tbody>\n",
       "</table>\n",
       "</div>"
      ],
      "text/plain": [
       "       year  school_id  number_of_students  avg_score\n",
       "16670  2007   33062633                  68      82.97\n",
       "16796  2007   33065403                 172      82.04\n",
       "16668  2005   33062633                  59      81.89\n",
       "16794  2005   33065403                 177      81.66\n",
       "10043  2007   29342880                  43      80.32\n",
       "18121  2007   33152314                  14      79.82\n",
       "16781  2007   33065250                  80      79.67\n",
       "3026   2007   22025740                 144      79.52\n",
       "14636  2007   31311723                 222      79.41\n",
       "17318  2007   33087679                 210      79.38"
      ]
     },
     "execution_count": 24,
     "metadata": {},
     "output_type": "execute_result"
    }
   ],
   "source": [
    "df = pd.read_csv(\"./data/enem_scores.csv\")\n",
    "\n",
    "df.sort_values(\"avg_score\", ascending=False).head(10) "
   ]
  },
  {
   "cell_type": "code",
   "execution_count": 66,
   "metadata": {},
   "outputs": [
    {
     "name": "stderr",
     "output_type": "stream",
     "text": [
      "/tmp/ipykernel_69710/3405166342.py:9: MatplotlibDeprecationWarning: The 'labels' parameter of boxplot() has been renamed 'tick_labels' since Matplotlib 3.9; support for the old name will be dropped in 3.11.\n",
      "  plt.boxplot(x=[df_other, df_max], labels=[\"df_other\", \"df_max\"])\n"
     ]
    },
    {
     "data": {
      "image/png": "[encoded data removed]",
      "text/plain": [
       "<Figure size 640x480 with 1 Axes>"
      ]
     },
     "metadata": {},
     "output_type": "display_data"
    }
   ],
   "source": [
    "import matplotlib.pyplot as plt\n",
    "\n",
    "df[\"cat\"] = pd.qcut( df[\"avg_score\"], q=100)\n",
    "df[\"cat\"].cat.categories.min()\n",
    "\n",
    "df_max = df[df[\"cat\"] == df[\"cat\"].cat.categories.max()].number_of_students\n",
    "df_other = df[df[\"cat\"] != df[\"cat\"].cat.categories.max()].number_of_students\n",
    "\n",
    "plt.boxplot(x=[df_other, df_max], labels=[\"df_other\", \"df_max\"])\n",
    "plt.show()"
   ]
  },
  {
   "cell_type": "markdown",
   "metadata": {},
   "source": [
    "Si on a analyse seulement, les ecoles avec les meilleurs réussites on peut voir que moins il y a d'élèves, plus les élèves sont doués. On a par exemple ici le 1% des ecoles les mieux classés en terme d'examens contre les 99% autre restants.\n",
    "\n",
    "Pourquoi il y a une erreurs dans ce raisonnement. En effet, pourquoi ne pas verifier que les 1 % les moins bons peuvent etre différents. \n",
    "\n",
    "Comme vous pouvez le voir, le résultat est directement orienté sur l'hypothèse populaire: \"Moins il y a d'élève mieux sont les résultats\", hors cela peut etre un biais de confirmation qui peut influencer notre étude."
   ]
  },
  {
   "cell_type": "code",
   "execution_count": 58,
   "metadata": {},
   "outputs": [
    {
     "name": "stderr",
     "output_type": "stream",
     "text": [
      "/tmp/ipykernel_69710/2123125345.py:3: MatplotlibDeprecationWarning: The 'labels' parameter of boxplot() has been renamed 'tick_labels' since Matplotlib 3.9; support for the old name will be dropped in 3.11.\n",
      "  plt.boxplot(x=[df_min, df_other, df_max], labels=[\"df_min\", \"df_other\", \"df_max\"])\n"
     ]
    },
    {
     "data": {
      "image/png": "[encoded data removed]",
      "text/plain": [
       "<Figure size 640x480 with 1 Axes>"
      ]
     },
     "metadata": {},
     "output_type": "display_data"
    }
   ],
   "source": [
    "df_min = df[df[\"cat\"] == df[\"cat\"].cat.categories.min()].number_of_students\n",
    "\n",
    "plt.boxplot(x=[df_min, df_other, df_max], labels=[\"df_min\", \"df_other\", \"df_max\"])\n",
    "plt.show()"
   ]
  },
  {
   "cell_type": "markdown",
   "metadata": {},
   "source": [
    "Comme vous pouvez le voir on tombe sur un tous autre résultat. Les petits établissements peuvent avoir aussi des très mauvais résultat. \n",
    "\n",
    "**Alors pourquoi ?**\n",
    "\n",
    "C'est l'effet de l'aléatoire, plus il y a l'élèves plus on tends à une moyenne, au contraire les petits établissements sont sujets à des décalages bénéfiques ou non, donc il peut y avoir une surpopulation de bon ou de mauvais élèves à comparer des autres grands échantillons.\n",
    "\n",
    "Si on reprend la formule de Moivre qui estime l'incertitude: $ SE =  \\frac{\\sigma}{\\sqrt{n}} $\n",
    "\n",
    "On peux voir clairement que plus il y a d'élèves dans un établissement, plus il converge vers un point (la moyenne). "
   ]
  },
  {
   "cell_type": "code",
   "execution_count": 65,
   "metadata": {},
   "outputs": [
    {
     "data": {
      "image/png": "[encoded data removed]",
      "text/plain": [
       "<Figure size 640x480 with 1 Axes>"
      ]
     },
     "metadata": {},
     "output_type": "display_data"
    }
   ],
   "source": [
    "idx_is_not_99 = df[\"cat\"].isin([df[\"cat\"].cat.categories.min(), df[\"cat\"].cat.categories.max()])\n",
    "df.plot.scatter(x=\"number_of_students\", y=\"avg_score\", c=[\"r\" if s else \"b\" for s in idx_is_not_99.to_list()])\n",
    "plt.show()"
   ]
  },
  {
   "cell_type": "markdown",
   "metadata": {},
   "source": [
    "## Reprise de l'étude de l'A/B testing"
   ]
  },
  {
   "cell_type": "code",
   "execution_count": 69,
   "metadata": {},
   "outputs": [
    {
     "data": {
      "text/plain": [
       "cross_sell_email\n",
       "long        109\n",
       "no_email     94\n",
       "short       120\n",
       "dtype: int64"
      ]
     },
     "execution_count": 69,
     "metadata": {},
     "output_type": "execute_result"
    }
   ],
   "source": [
    "get_data = lambda name: data.query(f\"cross_sell_email=='{name}'\")[\"conversion\"]\n",
    "\n",
    "short_email = get_data(\"short\")\n",
    "long_email = get_data(\"long\")\n",
    "no_email = get_data(\"no_email\")\n",
    "email = data.query(f\"cross_sell_email!='no_email'\")[\"conversion\"]\n",
    "\n",
    "\n",
    "size_group = data.groupby(\"cross_sell_email\").size()"
   ]
  },
  {
   "cell_type": "code",
   "execution_count": 75,
   "metadata": {},
   "outputs": [
    {
     "name": "stdout",
     "output_type": "stream",
     "text": [
      "Erreur standart du groupe email long: 0.02 et version pandas: 0.02\n",
      "Erreur standart du groupe email court: 0.03 et version pandas: 0.03\n"
     ]
    }
   ],
   "source": [
    "def se(y:pd.Series):\n",
    "    return y.std() / np.sqrt(len(y))\n",
    "\n",
    "print(\"Erreur standart du groupe email long:\", round(se(long_email), 2), \"et version pandas:\", round(long_email.sem(), 2))\n",
    "print(\"Erreur standart du groupe email court:\", round(se(short_email), 2), \"et version pandas:\", round(short_email.sem(), 2))"
   ]
  },
  {
   "cell_type": "code",
   "execution_count": 133,
   "metadata": {},
   "outputs": [
    {
     "data": {
      "text/plain": [
       "<matplotlib.collections.LineCollection at 0x7973aaa76ed0>"
      ]
     },
     "execution_count": 133,
     "metadata": {},
     "output_type": "execute_result"
    },
    {
     "data": {
      "image/png": "[encoded data removed]",
      "text/plain": [
       "<Figure size 640x480 with 1 Axes>"
      ]
     },
     "metadata": {},
     "output_type": "display_data"
    }
   ],
   "source": [
    "get_bernouilli = lambda: np.random.binomial(1, 0.08, 100)\n",
    "\n",
    "np.random.seed(42)\n",
    "\n",
    "exps = [get_bernouilli().mean() for _ in range(10000)]\n",
    "\n",
    "plt.hist(exps, bins=20)\n",
    "plt.vlines(0.08, ymax=1000, ymin=0, colors=\"r\", linestyles='dotted')"
   ]
  },
  {
   "cell_type": "markdown",
   "metadata": {},
   "source": [
    "Comment on peut le voir, nous avons l'utilisation du théorème centrale limite. \n",
    "\n",
    "Le but étant de trouver le moyenne des moyennes. Selon le livre, la moyenne des données est toujours normalement distribué. "
   ]
  },
  {
   "cell_type": "code",
   "execution_count": 152,
   "metadata": {},
   "outputs": [
    {
     "name": "stdout",
     "output_type": "stream",
     "text": [
      "\n",
      "Pour  1  Sigma on a:\n",
      "L'intervale de confience du mu de notre expérience est: (0.09, 0.16)\n",
      "\n",
      "Pour  2  Sigma on a:\n",
      "L'intervale de confience du mu de notre expérience est: (0.06, 0.19)\n"
     ]
    }
   ],
   "source": [
    "exp_se = short_email.sem()\n",
    "exp_mu = short_email.mean()\n",
    "for nb_sigma in [1, 2]:\n",
    "    print(\"\\nPour \",nb_sigma, \" Sigma on a:\")\n",
    "\n",
    "    ci = (round(exp_mu - nb_sigma* exp_se, 2), round(exp_mu + nb_sigma* exp_se, 2))\n",
    "\n",
    "    print(\"L'intervale de confience du mu de notre expérience est:\", ci) "
   ]
  },
  {
   "cell_type": "markdown",
   "metadata": {},
   "source": [
    "Ou en fonction de alpha, la formule (ppf) récupère l'inverse de la fonction cumulative de la loi normale. "
   ]
  },
  {
   "cell_type": "code",
   "execution_count": 171,
   "metadata": {},
   "outputs": [
    {
     "name": "stdout",
     "output_type": "stream",
     "text": [
      "\n",
      "Pour un intervale à  0.99 % on as 2.58\n",
      "L'intervale de confience du mu de notre expérience est: (0.0469, 0.2031)\n",
      "\n",
      "Pour un intervale à  0.95 % on as 1.96\n",
      "L'intervale de confience du mu de notre expérience est: (0.0656, 0.1844)\n",
      "\n",
      "Pour un intervale à  0.9 % on as 1.64\n",
      "L'intervale de confience du mu de notre expérience est: (0.0751, 0.1749)\n"
     ]
    }
   ],
   "source": [
    "from scipy import stats\n",
    "\n",
    "for alpha in [0.99, 0.95, 0.90]:\n",
    "    interval_sigma = np.abs(stats.norm.ppf((1-alpha)/2))\n",
    "    print(\"\\nPour un intervale à \",alpha, \"% on as\", round(interval_sigma, 2))\n",
    "\n",
    "    ci = (round(exp_mu - interval_sigma* exp_se, 4), round(exp_mu + interval_sigma* exp_se, 4))\n",
    "    print(\"L'intervale de confience du mu de notre expérience est:\", ci) "
   ]
  }
 ],
 "metadata": {
  "kernelspec": {
   "display_name": "Python 3",
   "language": "python",
   "name": "python3"
  },
  "language_info": {
   "codemirror_mode": {
    "name": "ipython",
    "version": 3
   },
   "file_extension": ".py",
   "mimetype": "text/x-python",
   "name": "python",
   "nbconvert_exporter": "python",
   "pygments_lexer": "ipython3",
   "version": "3.11.11"
  }
 },
 "nbformat": 4,
 "nbformat_minor": 2
}
