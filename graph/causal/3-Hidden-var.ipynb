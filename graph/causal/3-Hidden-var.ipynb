{
 "cells": [
  {
   "cell_type": "markdown",
   "metadata": {},
   "source": [
    "# Section 3 : Biais de confusion \n",
    "\n",
    "\n",
    "Durant la seconde sections on a discuter des DAG et du but de la inférence causale qui est de via après les interventions trouver $ P(Y|X) $ par la méthode: $ P(Y|do(X)) $ \n",
    "\n",
    "Si nous ne pouvons pas effectuer correctement une intervention du faites que nous n'avons que les *données observé* (on ne peux pas répliquer deux terre en meme temps)\n",
    "\n",
    "Pour résoudre, ce cas-là il faut trouver des expression sans do donc transformer $ P(Y|do(X)) $ en une expression \"do-free\" donc sans do.\n",
    "\n"
   ]
  },
  {
   "cell_type": "code",
   "execution_count": 1,
   "metadata": {},
   "outputs": [],
   "source": [
    "# TODO: => revoir Comprendre pouquoi on besoin de faire des interventions ? "
   ]
  },
  {
   "cell_type": "markdown",
   "metadata": {},
   "source": [
    "Pour résoudre ce type de problème, il existe des modèles 'graphique' de causalité. Il existe avec ce type de modèle des critère facilement applicable comme les portes arrières et les portes avants(ou la procedure do calculus).\n",
    "\n",
    "L'idenification de ces critère ont été généralisé par des algorithmes que nous verrons par la suite. "
   ]
  },
  {
   "cell_type": "markdown",
   "metadata": {},
   "source": [
    "---\n",
    "\n",
    "Le **biais de confusion** (ou **confounding bias**) est un problème qui survient en inférence causale lorsque l'on cherche à estimer la relation causale entre une variable $ X $ (cause supposée) et une variable $ Y $ (effet supposé), mais qu'une troisième variable $ Z $ influe à la fois sur $ X $ et $ Y $. Cela peut conduire à une mauvaise estimation de l'effet causal de $ X $ sur $ Y $, car la relation observée entre ces deux variables est en partie due à l'influence de $ Z $.\n",
    "\n",
    "En termes de **graphe causal**, le biais de confusion apparaît lorsqu'un **chemin non causal** (appelé **chemin de backdoor**) relie $ X $ et $ Y $ à travers une variable $ Z $, ou plusieurs variables. \n",
    "\n",
    "### Définition formelle dans les graphes causaux\n",
    "\n",
    "Dans un graphe causal dirigé (Directed Acyclic Graph, ou DAG) :\n",
    "- Une variable $ Z $ est appelée **confondante** si elle agit comme une cause commune à $ X $ et $ Y $. Autrement dit, $ Z $ influence $ X $ et $ Z $ influence $ Y $, créant un chemin reliant $ X $ à $ Y $ qui n'est pas directement causal.\n",
    "- Le **biais de confusion** se produit si on ne prend pas en compte $ Z $ dans l'estimation de la relation $ X \\to Y $.\n",
    "\n",
    "Un exemple classique est celui d'un graphe où :\n",
    "- $ Z \\to X $ (Z influence X)\n",
    "- $ Z \\to Y $ (Z influence Y)\n",
    "- $ X \\to Y $ (relation causale qu'on veut estimer)\n",
    "\n",
    "Dans ce cas, la relation entre $ X $ et $ Y $ est biaisée par le chemin **indirect** qui passe par $ Z $.\n",
    "\n",
    "### Illustration avec un exemple concret\n",
    "\n",
    "Supposons que nous souhaitions estimer l'effet de l'exercice physique ($ X $) sur la perte de poids ($ Y $). Une variable confondante pourrait être l'alimentation ($ Z $) :\n",
    "- Une personne qui mange sainement ($ Z $) est plus susceptible de faire de l'exercice ($ Z \\to X $).\n",
    "- Une alimentation saine influence aussi directement la perte de poids ($ Z \\to Y $).\n",
    "\n",
    "Si on ignore $ Z $ dans l'analyse, on pourrait attribuer à $ X $ (l'exercice) un effet plus important sur $ Y $ (la perte de poids) qu'il n'en a réellement, car l'alimentation ($ Z $) n'a pas été contrôlée.\n",
    "\n",
    "### Solution au biais de confusion : le critère du chemin de backdoor\n",
    "\n",
    "Le critère du chemin de backdoor permet d'identifier et de corriger le biais de confusion dans un graphe causal. Pour estimer l'effet causal de $ X $ sur $ Y $, il faut **bloquer** tous les chemins de backdoor reliant $ X $ à $ Y $. Cela peut être fait en contrôlant statistiquement pour les confondants ($ Z $) via :\n",
    "- **Ajustement** (e.g., inclure $ Z $ comme covariable dans une régression),\n",
    "- **Appariement** (e.g., matching basé sur $ Z $),\n",
    "- **Stratification** (analyser $ X $ et $ Y $ dans des sous-groupes homogènes en $ Z $).\n",
    "\n",
    "### Résumé\n",
    "\n",
    "Le **biais de confusion** est un biais introduit par des variables qui créent une corrélation apparente entre $ X $ et $ Y $ sans que cette corrélation soit causale. En graphes causaux, il correspond à des chemins de backdoor reliant $ X $ à $ Y $. Identifier et bloquer ces chemins est essentiel pour estimer correctement les relations causales."
   ]
  },
  {
   "cell_type": "code",
   "execution_count": 29,
   "metadata": {},
   "outputs": [
    {
     "data": {
      "image/png": "[encoded data removed]",
      "text/plain": [
       "<Figure size 640x480 with 1 Axes>"
      ]
     },
     "metadata": {},
     "output_type": "display_data"
    }
   ],
   "source": [
    "import networkx as nx\n",
    "\n",
    "G = nx.DiGraph([\n",
    "    (\"Z\", \"W\"),\n",
    "    (\"W\", \"X\"),\n",
    "    (\"Z\", \"Y\"),\n",
    "    (\"X\", \"Y\"),\n",
    "])\n",
    "nx.draw_planar(G, with_labels=True)"
   ]
  },
  {
   "cell_type": "markdown",
   "metadata": {},
   "source": [
    "Sur cette exemple, avec X en entré et Y en sortie, le chemin confondant est $ X \\gets W \\gets Z \\to Y $\n",
    "\n",
    "L'autre chemin de $ X \\to Y $ est directe et donc causal.\n",
    "\n",
    "Pour connaitre l'effet de X sur Y, nous devons bloqué ce chemin ($ X \\gets W \\gets Z \\to Y $) pour eviter les effets parasites."
   ]
  },
  {
   "cell_type": "markdown",
   "metadata": {},
   "source": [
    "**Définition : d-séparation (Pearl et al., 2016, p. 46)**\n",
    "\n",
    "Un chemin p est bloqué par un ensemble de nœuds Z si et seulement si\n",
    "1. p contient une chaîne de nœuds A → B → C ou une fourche A ← B → C telle que le nœud central B est dans Z (c'est-à-dire que B est conditionné), ou\n",
    "2. p contient un collisionneur A → B ← C tel que le nœud de collision B n'est pas dans Z et qu'aucun descendant de B n'est dans Z."
   ]
  },
  {
   "cell_type": "markdown",
   "metadata": {},
   "source": [
    "--- \n",
    "\n",
    "En graphe causal, **\"bloquer un chemin\"** signifie couper l'influence qu'un chemin exerce entre deux variables dans le graphe, de manière à empêcher toute corrélation ou dépendance induite par ce chemin. Cela permet de neutraliser les effets des chemins non causaux (comme les chemins de backdoor), qui pourraient biaiser l'estimation de l'effet causal direct.\n",
    "\n",
    "Voici une explication détaillée de ce concept :\n",
    "\n",
    "---\n",
    "\n",
    "### **Chemins dans les graphes causaux**\n",
    "Un **chemin** dans un graphe causal est une séquence de liens entre deux variables, qu'ils soient causaux (dirigés) ou non causaux (par exemple, un chemin de backdoor). \n",
    "\n",
    "- Un **chemin causal** est un chemin entièrement dirigé (par exemple $ X \\to Y $).\n",
    "- Un **chemin non causal** est un chemin contenant des variables intermédiaires ou des relations confondantes (par exemple $ X \\gets Z \\to Y $).\n",
    "\n",
    "---\n",
    "\n",
    "### **Bloquer un chemin**\n",
    "Un chemin est dit \"bloqué\" lorsqu'il est rendu **non pertinent** pour transmettre une dépendance statistique entre deux variables. Cela se fait en conditionnant ou en contrôlant certaines variables dans le chemin.\n",
    "\n",
    "Le blocage repose sur les propriétés de **d-séparation** (ou séparation directionnelle) dans un graphe causal.\n",
    "\n",
    "#### **Règles pour bloquer un chemin** :\n",
    "1. **Pour un chemin passant par une chaîne causale** $ A \\to B \\to C $ :\n",
    "   - Conditionner sur $ B $ (c'est-à-dire inclure $ B $ dans votre analyse statistique) **bloque le chemin**.\n",
    "   - Exemple : Si $ A \\to B \\to C $, alors conditionner sur $ B $ empêche la corrélation entre $ A $ et $ C $ d'être transmise via $ B $.\n",
    "\n",
    "2. **Pour un chemin passant par une cause commune (confounding)** $ A \\gets B \\to C $ :\n",
    "   - Conditionner sur $ B $ bloque le chemin.\n",
    "   - Exemple : Si $ A \\gets B \\to C $, alors conditionner sur $ B $ élimine la corrélation induite entre $ A $ et $ C $ par $ B $.\n",
    "\n",
    "3. **Pour un chemin passant par un colliseur** $ A \\to B \\gets C $ :\n",
    "   - Conditionner sur $ B $ (ou une descendance de $ B $) **ouvre le chemin**, car cela crée une corrélation entre $ A $ et $ C $.\n",
    "   - Exemple : Si $ A \\to B \\gets C $, alors ne pas conditionner sur $ B $ est nécessaire pour bloquer le chemin. Conditionner sur $ B $ introduirait une dépendance entre $ A $ et $ C $ même s'il n'y en a pas.\n",
    "\n",
    "---\n",
    "\n",
    "### **Exemple d'application**\n",
    "\n",
    "#### Problème de backdoor\n",
    "Supposons que nous souhaitons estimer l'effet causal de $ X $ sur $ Y $, mais un chemin de backdoor existe : $ X \\gets Z \\to Y $.\n",
    "\n",
    "- $ Z $ est une cause commune de $ X $ et $ Y $, et il introduit une corrélation entre eux.\n",
    "- Pour **bloquer** ce chemin, il faut **conditionner sur $ Z $** (par exemple, inclure $ Z $ comme covariable dans une analyse de régression).\n",
    "\n",
    "#### Attention aux colliseurs\n",
    "Si le graphe contient un colliseur $ X \\to W \\gets Y $ (par exemple, une variable qui est causée à la fois par $ X $ et $ Y $), conditionner sur $ W $ **ouvre un chemin** non causal entre $ X $ et $ Y $. Dans ce cas, pour estimer correctement l'effet causal de $ X $ sur $ Y $, il faut **ne pas conditionner** sur $ W $.\n",
    "\n",
    "---\n",
    "\n",
    "### **Résumé**\n",
    "- \"Bloquer un chemin\" signifie rendre ce chemin **statistiquement non pertinent** en empêchant qu'il transmette une dépendance entre deux variables.\n",
    "- Le blocage est effectué en conditionnant certaines variables selon les règles de d-séparation.\n",
    "- Cela est essentiel pour isoler les chemins causaux et obtenir une estimation correcte des relations causales dans un graphe."
   ]
  },
  {
   "cell_type": "markdown",
   "metadata": {},
   "source": [
    "## Les Ajustements des portes arrières (Backdoor Adjustment)\n",
    "\n",
    "\n",
    "Definition: **The backdoor criterion (Pearl et al., 20216, p.61)**\n",
    "\n",
    "Soit des paires ordonnées de variables (X, Y) dans un DAG G, un ensemble de variable Z satisfait le critère de porte arrière par rapport à (X, Y) si:\n",
    "- aucun noeud dans Z est un descendant de X, \n",
    "- Z bloque tous les chemin entre X et Y qui continnent une flèche vers X.  \n",
    "\n",
    "Si l'ensemble de variables Z satifait le critère de backdoor par rapport à X et Y, l'effet causal est donnée de la façon suivante:\n",
    "$$ \n",
    " P(Y = y|do(X=x)) = \\sum_z P(Y = y| X=x, Z=z)P(Z=z)\n",
    "$$ \n",
    "\n",
    "Ici comment on le voit l'expression devitn \"do-free\" !\n",
    "\n",
    "## Exercice trouver toutes les backdoor effect dans le graph suivant:"
   ]
  },
  {
   "cell_type": "code",
   "execution_count": 38,
   "metadata": {},
   "outputs": [
    {
     "data": {
      "image/png": "[encoded data removed]",
      "text/plain": [
       "<Figure size 640x480 with 1 Axes>"
      ]
     },
     "metadata": {},
     "output_type": "display_data"
    }
   ],
   "source": [
    "import networkx as nx\n",
    "\n",
    "G = nx.DiGraph([\n",
    "    (\"X\", \"Z6\"),\n",
    "    (\"Z6\", \"Y\"),\n",
    "    (\"Z2\", \"X\"),\n",
    "    (\"Z1\", \"Y\"),\n",
    "    (\"Z5\", \"Y\"),\n",
    "    (\"Z3\", \"Z2\"),\n",
    "    (\"Z3\", \"Z1\"),\n",
    "    (\"Z1\", \"X\"),\n",
    "    (\"Z4\", \"Z1\"),\n",
    "    (\"Z4\", \"Z5\"),\n",
    "])\n",
    "nx.draw_planar(G, with_labels=True)"
   ]
  },
  {
   "cell_type": "markdown",
   "metadata": {},
   "source": [
    "Voici l'ensemble **minimal** des Z possible pour valider le critère:\n",
    "- {Z3, Z1}\n",
    "- {Z2, Z1}\n",
    "- {Z1, Z5}\n",
    "- {Z2, Z4}\n",
    "\n",
    "Pourquoi celle ci ?\n",
    "\n",
    "A chaque fois on bloque Z1, car il bloque le chemin entre X et Y. Cependant le reste du chemin n'est pas complétement bloqué car il y a la suite ($ X \\gets Z2 \\gets Z3 \\to Z1 \\gets Z4 \\to Z5 \\to Y $) Ainsi pour bloquer ce chemin il faut au moins une variable à bloquer comme fait précédemment donc soit Z2, Z3, Z4, Z5."
   ]
  },
  {
   "cell_type": "code",
   "execution_count": 39,
   "metadata": {},
   "outputs": [
    {
     "ename": "SyntaxError",
     "evalue": "unterminated string literal (detected at line 1) (144706862.py, line 1)",
     "output_type": "error",
     "traceback": [
      "\u001b[0;36m  Cell \u001b[0;32mIn[39], line 1\u001b[0;36m\u001b[0m\n\u001b[0;31m    Voici l'ensemble des Z possible pour valider le critère:\u001b[0m\n\u001b[0m           ^\u001b[0m\n\u001b[0;31mSyntaxError\u001b[0m\u001b[0;31m:\u001b[0m unterminated string literal (detected at line 1)\n"
     ]
    }
   ],
   "source": []
  }
 ],
 "metadata": {
  "kernelspec": {
   "display_name": "Python 3",
   "language": "python",
   "name": "python3"
  },
  "language_info": {
   "codemirror_mode": {
    "name": "ipython",
    "version": 3
   },
   "file_extension": ".py",
   "mimetype": "text/x-python",
   "name": "python",
   "nbconvert_exporter": "python",
   "pygments_lexer": "ipython3",
   "version": "3.11.11"
  }
 },
 "nbformat": 4,
 "nbformat_minor": 2
}
